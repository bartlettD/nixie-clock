{
 "cells": [
  {
   "cell_type": "markdown",
   "metadata": {},
   "source": [
    "# Nixie Voltage Regulator\n",
    "## Basic Design Parameters\n",
    "In this section we will define the basic parameters of the Voltage Regulator. We will specify known quantities at this stage such as input voltage, required output current, total power, basic efficiency calculations etc."
   ]
  },
  {
   "cell_type": "code",
   "execution_count": 63,
   "metadata": {},
   "outputs": [
    {
     "name": "stdout",
     "output_type": "stream",
     "text": [
      "============================Basic Design Parameters=============================\n",
      "Input Params\tOutput Params\n",
      "5.0 volt \t 180.0 volt\n",
      "630.0 milliampere 3.15 watt\n",
      "17.5 milliampere\n"
     ]
    }
   ],
   "source": [
    "from pint import UnitRegistry\n",
    "ureg = UnitRegistry()\n",
    "\n",
    "#Input Voltage Range\n",
    "VinMin = 4.0 * ureg.V\n",
    "VinNom = 5.0 * ureg.V\n",
    "VinMax = 6.0 * ureg.V\n",
    "\n",
    "Vout = 180.0 * ureg.V\n",
    "\n",
    "#Load Current\n",
    "NixieCurrent = 2.5 * ureg.mA\n",
    "NumNixie = 6\n",
    "# Total current draw of Nixies + some fudge factor.\n",
    "MaxDesignCurrent = NixieCurrent * NumNixie + 2.5 * ureg.mA\n",
    "\n",
    "OutputPower = MaxDesignCurrent * Vout\n",
    "InputCurrent = OutputPower / VinNom\n",
    "\n",
    "print(\"Basic Design Parameters\".center(80,'='))\n",
    "print(\"Input Params\\tOutput Params\")\n",
    "print(VinNom,\"\\t\",Vout)\n",
    "print(InputCurrent,OutputPower.to(ureg.W),)\n",
    "print(MaxDesignCurrent)"
   ]
  },
  {
   "cell_type": "markdown",
   "metadata": {},
   "source": [
    "## Boost Converter in CCM Mode\n",
    "Firstly, we'll calculate what the solution will look like in CCM mode as it's simpler to work out and our load is relativley constant and well understood.\n",
    "\n",
    "### Duty Cycle\n",
    "\n",
    "Duty Cycle in CCM is defined as the following.\n",
    "\n",
    "$D=1-\\dfrac{V_{in}}{V_{out}+V_d}$\n",
    "\n",
    "where $V_d$ is the forward voltage of the boost diode."
   ]
  },
  {
   "cell_type": "code",
   "execution_count": 62,
   "metadata": {},
   "outputs": [
    {
     "name": "stdout",
     "output_type": "stream",
     "text": [
      "0.9724\n"
     ]
    }
   ],
   "source": [
    "#Diode Voltage Drop\n",
    "VDropD = 1 * ureg.V # Assuming 1V for now.\n",
    "\n",
    "Duty = 1 - ((VinNom)/(Vout+VDropD))\n",
    "\n",
    "print('{:.4f}'.format(Duty.magnitude))"
   ]
  },
  {
   "cell_type": "markdown",
   "metadata": {},
   "source": [
    "A 97% Duty Cycle is really high, but do-able for some converters. We'll be spending most of our time with the MOSFET switched on so it'll need to have a good RDSon."
   ]
  },
  {
   "cell_type": "markdown",
   "metadata": {},
   "source": [
    "### Inductor Selection\n",
    "\n",
    "For a Boost Converter to operate in CCM there must be a minumum load at the output in order to maintain a constant current through the inductor to prevent the converter from switching into DCM. Because the converter is only going to be powering 6 Nixie tubes and will be shut down when I don't want the tubes to be lit then we can rely on a fairly constant load.\n",
    "\n",
    "However, if PWM brightness control is implemented (which it will) then CCM will not be suitable and a DCM mode Boost of Flyback will be needed instead.\n",
    "\n",
    "For now lets push on and pretend this isnt a factor."
   ]
  },
  {
   "cell_type": "code",
   "execution_count": null,
   "metadata": {},
   "outputs": [],
   "source": []
  }
 ],
 "metadata": {
  "kernelspec": {
   "display_name": "Python 3",
   "language": "python",
   "name": "python3"
  },
  "language_info": {
   "codemirror_mode": {
    "name": "ipython",
    "version": 3
   },
   "file_extension": ".py",
   "mimetype": "text/x-python",
   "name": "python",
   "nbconvert_exporter": "python",
   "pygments_lexer": "ipython3",
   "version": "3.7.5"
  }
 },
 "nbformat": 4,
 "nbformat_minor": 4
}
